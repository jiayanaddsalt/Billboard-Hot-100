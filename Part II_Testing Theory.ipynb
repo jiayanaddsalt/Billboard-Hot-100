{
 "cells": [
  {
   "cell_type": "markdown",
   "metadata": {},
   "source": [
    "# Task 3: finding a legisign relationship according to my theory"
   ]
  },
  {
   "cell_type": "markdown",
   "metadata": {},
   "source": [
    "My theory derives from different components of the Circuit of Culture, where multiple complex contagions might be at play. Here, I concentrate on the Identity part. As explained, the ever-changing cultural beliefs and values could contribute to the heterogeneity of Billboard Hot 100 songs from 1950 to 2015. More specifically, I further narrow my focus on the romance ideology and how it relates to the theme of the song lyrics of these popular songs. The idea is: more focus on committed romantic relationships on a societal level may be related to more hopeless romantic singers. I further operationalize both notions as marriage rates and the salience of hopeless romantics in songs. My hypothesis is: the salience of love themes in Billboard Hot 100 songs is positively correlated with the marital state in the US.\n",
    "\n",
    "Method\n",
    "I first obtained an open-sourced dataset of the marriage rate per 1,000 of the population in the United States from 1990 to 2020 (Statista, 2022). Then, I computed the weight of five salient topics of the Billboard Hot 100 songs with the LDA (Latent Dirichlet Allocation) approach. \n",
    "\n",
    "Through a qualitative analysis of the 10 songs most saliently belonging to Topic 3, I conclude that Topic 3 is most relevant to heartbreaks and longing for the lover, where lyrics like “why your love went away” (What Goes Around Comes Around), “maybe you’ll let me borrow your heart” (Not A Bad Thing), “Still need her” (Red Red Wine) appear. Therefore, I refer to Topic 3 as the romance/heartbreak theme.\n",
    "\n",
    "I obtained the average weight scores of the romance/heartbreak theme for each year. Two datasets were assembled into one that covers the years from 1990 to 2015. Lastly, I tested my hypothesis of the positive correlation between the salience of the romance/heartbreak theme in Billboard Hot 100 songs and marriage rate from 1990 to 2015 with OLS (Ordinary Least Squares) regression."
   ]
  },
  {
   "cell_type": "markdown",
   "metadata": {},
   "source": [
    "# Task 4: testing my proposed legisign relationship"
   ]
  },
  {
   "cell_type": "code",
   "execution_count": 2,
   "metadata": {},
   "outputs": [],
   "source": [
    "import pandas as pd\n",
    "import matplotlib.pyplot as plt\n",
    "from gensim import corpora, models\n",
    "import statsmodels.api as sm\n",
    "from statsmodels.formula.api import ols\n",
    "import music        # ref: week6 hands-on files\n",
    "import utils        # stores the helper function"
   ]
  },
  {
   "cell_type": "code",
   "execution_count": 3,
   "metadata": {},
   "outputs": [],
   "source": [
    "music_df = pd.read_csv('data/music_df.csv')"
   ]
  },
  {
   "cell_type": "code",
   "execution_count": 4,
   "metadata": {},
   "outputs": [
    {
     "name": "stdout",
     "output_type": "stream",
     "text": [
      "Index(['lyrics', 'num_syllables', 'pos', 'year', 'fog_index', 'flesch_index',\n",
      "       'num_words', 'num_lines', 'title', 'f_k_grade', 'artist',\n",
      "       'difficult_words', 'num_dupes', 'neg', 'neu', 'compound', 'id',\n",
      "       'danceability', 'energy', 'key', 'loudness', 'mode', 'speechiness',\n",
      "       'acousticness', 'instrumentalness', 'liveness', 'valence', 'tempo',\n",
      "       'duration_ms', 'time_signature', 'uri', 'analysis_url',\n",
      "       'artist_with_features', 'year_bin', 'image', 'cluster', 'Gender'],\n",
      "      dtype='object')\n"
     ]
    },
    {
     "data": {
      "text/html": [
       "<div>\n",
       "<style scoped>\n",
       "    .dataframe tbody tr th:only-of-type {\n",
       "        vertical-align: middle;\n",
       "    }\n",
       "\n",
       "    .dataframe tbody tr th {\n",
       "        vertical-align: top;\n",
       "    }\n",
       "\n",
       "    .dataframe thead th {\n",
       "        text-align: right;\n",
       "    }\n",
       "</style>\n",
       "<table border=\"1\" class=\"dataframe\">\n",
       "  <thead>\n",
       "    <tr style=\"text-align: right;\">\n",
       "      <th></th>\n",
       "      <th>lyrics</th>\n",
       "      <th>num_syllables</th>\n",
       "      <th>pos</th>\n",
       "      <th>year</th>\n",
       "      <th>fog_index</th>\n",
       "      <th>flesch_index</th>\n",
       "      <th>num_words</th>\n",
       "      <th>num_lines</th>\n",
       "      <th>title</th>\n",
       "      <th>f_k_grade</th>\n",
       "      <th>...</th>\n",
       "      <th>tempo</th>\n",
       "      <th>duration_ms</th>\n",
       "      <th>time_signature</th>\n",
       "      <th>uri</th>\n",
       "      <th>analysis_url</th>\n",
       "      <th>artist_with_features</th>\n",
       "      <th>year_bin</th>\n",
       "      <th>image</th>\n",
       "      <th>cluster</th>\n",
       "      <th>Gender</th>\n",
       "    </tr>\n",
       "  </thead>\n",
       "  <tbody>\n",
       "    <tr>\n",
       "      <th>0</th>\n",
       "      <td>Mona Lisa, Mona Lisa, men have named you\\nYou'...</td>\n",
       "      <td>189.0</td>\n",
       "      <td>0.199</td>\n",
       "      <td>1950</td>\n",
       "      <td>5.2</td>\n",
       "      <td>88.74</td>\n",
       "      <td>145</td>\n",
       "      <td>17</td>\n",
       "      <td>Mona Lisa</td>\n",
       "      <td>2.9</td>\n",
       "      <td>...</td>\n",
       "      <td>86.198</td>\n",
       "      <td>207573.0</td>\n",
       "      <td>3</td>\n",
       "      <td>spotify:track:3k5ycyXX5qsCjLd7R2vphp</td>\n",
       "      <td>https://api.spotify.com/v1/audio-analysis/3k5y...</td>\n",
       "      <td>NaN</td>\n",
       "      <td>50s</td>\n",
       "      <td>https://i.scdn.co/image/a4c0918f13b67aa8d9f4ea...</td>\n",
       "      <td>String Lover</td>\n",
       "      <td>male</td>\n",
       "    </tr>\n",
       "    <tr>\n",
       "      <th>1</th>\n",
       "      <td>I wanna be Loved\\nBy Andrews Sisters\\n\\nOooo-o...</td>\n",
       "      <td>270.9</td>\n",
       "      <td>0.224</td>\n",
       "      <td>1950</td>\n",
       "      <td>4.4</td>\n",
       "      <td>82.31</td>\n",
       "      <td>189</td>\n",
       "      <td>31</td>\n",
       "      <td>I Wanna Be Loved</td>\n",
       "      <td>3.3</td>\n",
       "      <td>...</td>\n",
       "      <td>170.869</td>\n",
       "      <td>198027.0</td>\n",
       "      <td>5</td>\n",
       "      <td>spotify:track:4UY81WrDU3jTROGaKuz4uZ</td>\n",
       "      <td>https://api.spotify.com/v1/audio-analysis/4UY8...</td>\n",
       "      <td>Gordon Jenkins</td>\n",
       "      <td>50s</td>\n",
       "      <td>https://i.scdn.co/image/42e4dc3ab9b190056a1ca1...</td>\n",
       "      <td>String Lover</td>\n",
       "      <td>Group</td>\n",
       "    </tr>\n",
       "    <tr>\n",
       "      <th>2</th>\n",
       "      <td>I was dancing with my darling to the Tennessee...</td>\n",
       "      <td>174.6</td>\n",
       "      <td>0.351</td>\n",
       "      <td>1950</td>\n",
       "      <td>5.2</td>\n",
       "      <td>88.74</td>\n",
       "      <td>138</td>\n",
       "      <td>16</td>\n",
       "      <td>Tennessee Waltz</td>\n",
       "      <td>2.9</td>\n",
       "      <td>...</td>\n",
       "      <td>86.335</td>\n",
       "      <td>182733.0</td>\n",
       "      <td>3</td>\n",
       "      <td>spotify:track:6DKt9vMnMN0HmlnK3EAHRQ</td>\n",
       "      <td>https://api.spotify.com/v1/audio-analysis/6DKt...</td>\n",
       "      <td>NaN</td>\n",
       "      <td>50s</td>\n",
       "      <td>https://i.scdn.co/image/353b05113b1a140d64d83d...</td>\n",
       "      <td>String Lover</td>\n",
       "      <td>female</td>\n",
       "    </tr>\n",
       "    <tr>\n",
       "      <th>3</th>\n",
       "      <td>Each time I hold someone new\\nMy arms grow col...</td>\n",
       "      <td>135.9</td>\n",
       "      <td>0.231</td>\n",
       "      <td>1950</td>\n",
       "      <td>4.4</td>\n",
       "      <td>99.23</td>\n",
       "      <td>117</td>\n",
       "      <td>18</td>\n",
       "      <td>I'll Never Be Free</td>\n",
       "      <td>0.9</td>\n",
       "      <td>...</td>\n",
       "      <td>82.184</td>\n",
       "      <td>158000.0</td>\n",
       "      <td>3</td>\n",
       "      <td>spotify:track:0KnD456yC5JuweN932Ems3</td>\n",
       "      <td>https://api.spotify.com/v1/audio-analysis/0KnD...</td>\n",
       "      <td>Kay Starr</td>\n",
       "      <td>50s</td>\n",
       "      <td>https://i.scdn.co/image/4bd427bb9181914d0fa448...</td>\n",
       "      <td>String Lover</td>\n",
       "      <td>male</td>\n",
       "    </tr>\n",
       "    <tr>\n",
       "      <th>4</th>\n",
       "      <td>Unfortunately, we are not licensed to display ...</td>\n",
       "      <td>46.8</td>\n",
       "      <td>0.079</td>\n",
       "      <td>1950</td>\n",
       "      <td>6.0</td>\n",
       "      <td>69.79</td>\n",
       "      <td>32</td>\n",
       "      <td>3</td>\n",
       "      <td>All My Love</td>\n",
       "      <td>6.0</td>\n",
       "      <td>...</td>\n",
       "      <td>123.314</td>\n",
       "      <td>190933.0</td>\n",
       "      <td>4</td>\n",
       "      <td>spotify:track:05sXHTLqIpwywbpui1JT4o</td>\n",
       "      <td>https://api.spotify.com/v1/audio-analysis/05sX...</td>\n",
       "      <td>NaN</td>\n",
       "      <td>50s</td>\n",
       "      <td>https://i.scdn.co/image/353b05113b1a140d64d83d...</td>\n",
       "      <td>String Lover</td>\n",
       "      <td>female</td>\n",
       "    </tr>\n",
       "  </tbody>\n",
       "</table>\n",
       "<p>5 rows × 37 columns</p>\n",
       "</div>"
      ],
      "text/plain": [
       "                                              lyrics  num_syllables    pos  \\\n",
       "0  Mona Lisa, Mona Lisa, men have named you\\nYou'...          189.0  0.199   \n",
       "1  I wanna be Loved\\nBy Andrews Sisters\\n\\nOooo-o...          270.9  0.224   \n",
       "2  I was dancing with my darling to the Tennessee...          174.6  0.351   \n",
       "3  Each time I hold someone new\\nMy arms grow col...          135.9  0.231   \n",
       "4  Unfortunately, we are not licensed to display ...           46.8  0.079   \n",
       "\n",
       "   year  fog_index  flesch_index  num_words  num_lines               title  \\\n",
       "0  1950        5.2         88.74        145         17           Mona Lisa   \n",
       "1  1950        4.4         82.31        189         31    I Wanna Be Loved   \n",
       "2  1950        5.2         88.74        138         16     Tennessee Waltz   \n",
       "3  1950        4.4         99.23        117         18  I'll Never Be Free   \n",
       "4  1950        6.0         69.79         32          3         All My Love   \n",
       "\n",
       "   f_k_grade  ...    tempo  duration_ms  time_signature  \\\n",
       "0        2.9  ...   86.198     207573.0               3   \n",
       "1        3.3  ...  170.869     198027.0               5   \n",
       "2        2.9  ...   86.335     182733.0               3   \n",
       "3        0.9  ...   82.184     158000.0               3   \n",
       "4        6.0  ...  123.314     190933.0               4   \n",
       "\n",
       "                                    uri  \\\n",
       "0  spotify:track:3k5ycyXX5qsCjLd7R2vphp   \n",
       "1  spotify:track:4UY81WrDU3jTROGaKuz4uZ   \n",
       "2  spotify:track:6DKt9vMnMN0HmlnK3EAHRQ   \n",
       "3  spotify:track:0KnD456yC5JuweN932Ems3   \n",
       "4  spotify:track:05sXHTLqIpwywbpui1JT4o   \n",
       "\n",
       "                                        analysis_url  artist_with_features  \\\n",
       "0  https://api.spotify.com/v1/audio-analysis/3k5y...                   NaN   \n",
       "1  https://api.spotify.com/v1/audio-analysis/4UY8...        Gordon Jenkins   \n",
       "2  https://api.spotify.com/v1/audio-analysis/6DKt...                   NaN   \n",
       "3  https://api.spotify.com/v1/audio-analysis/0KnD...             Kay Starr   \n",
       "4  https://api.spotify.com/v1/audio-analysis/05sX...                   NaN   \n",
       "\n",
       "  year_bin                                              image       cluster  \\\n",
       "0      50s  https://i.scdn.co/image/a4c0918f13b67aa8d9f4ea...  String Lover   \n",
       "1      50s  https://i.scdn.co/image/42e4dc3ab9b190056a1ca1...  String Lover   \n",
       "2      50s  https://i.scdn.co/image/353b05113b1a140d64d83d...  String Lover   \n",
       "3      50s  https://i.scdn.co/image/4bd427bb9181914d0fa448...  String Lover   \n",
       "4      50s  https://i.scdn.co/image/353b05113b1a140d64d83d...  String Lover   \n",
       "\n",
       "   Gender  \n",
       "0    male  \n",
       "1   Group  \n",
       "2  female  \n",
       "3    male  \n",
       "4  female  \n",
       "\n",
       "[5 rows x 37 columns]"
      ]
     },
     "execution_count": 4,
     "metadata": {},
     "output_type": "execute_result"
    }
   ],
   "source": [
    "print(music_df.columns)\n",
    "music_df.head()"
   ]
  },
  {
   "cell_type": "markdown",
   "metadata": {},
   "source": [
    "--------------------"
   ]
  },
  {
   "cell_type": "code",
   "execution_count": 5,
   "metadata": {},
   "outputs": [],
   "source": [
    "# create a variable to access lyrics of the songs\n",
    "lyrics = music_df['lyrics']"
   ]
  },
  {
   "cell_type": "code",
   "execution_count": 6,
   "metadata": {},
   "outputs": [],
   "source": [
    "# Get lemma series\n",
    "\n",
    "#lemmas = music_df['lyrics'].apply(music.get_lemmas)\n",
    "#lemmas.to_pickle('lyric_lemmas.pkl')\n",
    "\n",
    "lemmas = pd.read_pickle('lyric_lemmas.pkl')"
   ]
  },
  {
   "cell_type": "code",
   "execution_count": 7,
   "metadata": {},
   "outputs": [
    {
     "data": {
      "text/plain": [
       "['mona',\n",
       " 'lisa',\n",
       " 'mona',\n",
       " 'lisa',\n",
       " 'men',\n",
       " 'name',\n",
       " \"'re\",\n",
       " 'like',\n",
       " 'lady',\n",
       " 'mystic']"
      ]
     },
     "execution_count": 7,
     "metadata": {},
     "output_type": "execute_result"
    }
   ],
   "source": [
    "# Take a look at the first couple of words in the song:\n",
    "lemmas[0][:10]"
   ]
  },
  {
   "cell_type": "markdown",
   "metadata": {},
   "source": [
    "use [colocation detection algorithms](https://radimrehurek.com/gensim/models/phrases.html) in Gensim to identify bigrams"
   ]
  },
  {
   "cell_type": "code",
   "execution_count": 8,
   "metadata": {},
   "outputs": [
    {
     "data": {
      "text/plain": [
       "['mona_lisa',\n",
       " 'mona_lisa',\n",
       " 'men',\n",
       " 'name',\n",
       " \"'re\",\n",
       " 'like',\n",
       " 'lady',\n",
       " 'mystic',\n",
       " 'smile',\n",
       " \"'cause\",\n",
       " \"'re\",\n",
       " 'lonely',\n",
       " 'blame',\n",
       " 'mona_lisa',\n",
       " 'strangeness',\n",
       " 'smile_smile',\n",
       " 'tempt',\n",
       " 'lover',\n",
       " 'mona_lisa',\n",
       " 'way']"
      ]
     },
     "execution_count": 8,
     "metadata": {},
     "output_type": "execute_result"
    }
   ],
   "source": [
    "lemmas = music.make_bigrams(lemmas)\n",
    "lemmas[0][:20]"
   ]
  },
  {
   "cell_type": "markdown",
   "metadata": {},
   "source": [
    "Identify topics with [LDA](https://radimrehurek.com/gensim/models/ldamodel.html) approach with Gensim"
   ]
  },
  {
   "cell_type": "code",
   "execution_count": 9,
   "metadata": {},
   "outputs": [],
   "source": [
    "# initialize series of lemmas as Gensim Dictionary\n",
    "dictionary = corpora.Dictionary(lemmas)\n",
    "\n",
    "# convert dictionary into list of (token_id, token_count) tuples\n",
    "bow_corpus = [dictionary.doc2bow(text) for text in lemmas]"
   ]
  },
  {
   "cell_type": "markdown",
   "metadata": {},
   "source": [
    "Using the measure [\"topic coherence\"](https://radimrehurek.com/gensim/models/coherencemodel.html) to identify the number of topics as priori for LDA"
   ]
  },
  {
   "cell_type": "code",
   "execution_count": null,
   "metadata": {},
   "outputs": [
    {
     "data": {
      "image/png": "[encoded data removed]",
      "text/plain": [
       "<Figure size 432x288 with 1 Axes>"
      ]
     },
     "metadata": {},
     "output_type": "display_data"
    }
   ],
   "source": [
    "model_list, coherence_values = music.compute_coherence_values(dictionary=dictionary,\n",
    "                                                              corpus=bow_corpus,\n",
    "                                                              texts=lemmas,\n",
    "                                                              start=2,\n",
    "                                                              limit=40,\n",
    "                                                              step=6)\n",
    "plt.plot(range(2, 40, 6), coherence_values)\n",
    "plt.xlabel(\"Number of Topics\")\n",
    "plt.ylabel(\"Coherence score\")\n",
    "plt.legend((\"coherence_values\"), loc='best');"
   ]
  },
  {
   "cell_type": "code",
   "execution_count": 22,
   "metadata": {},
   "outputs": [
    {
     "name": "stdout",
     "output_type": "stream",
     "text": [
      "(0, '0.027*\"\\'m\" + 0.025*\"na\" + 0.022*\"get\" + 0.021*\"\\'s\" + 0.019*\"n\\'t\" + 0.014*\"yeah\" + 0.013*\"oh\" + 0.011*\"come\" + 0.010*\"want\" + 0.009*\"like\" + 0.009*\"know\" + 0.009*\"ca_n\\'t\" + 0.008*\"go\" + 0.008*\"say\" + 0.008*\"good\" + 0.007*\"well\" + 0.007*\"one\" + 0.007*\"\\'re\" + 0.007*\"\\'ve\" + 0.006*\"man\"')\n",
      "(1, '0.035*\"\\'s\" + 0.032*\"get\" + 0.019*\"like\" + 0.018*\"\\'m\" + 0.011*\"n\\'t\" + 0.011*\"let\" + 0.010*\"yeah\" + 0.009*\"know\" + 0.009*\"go\" + 0.008*\"come\" + 0.007*\"make\" + 0.007*\"see\" + 0.007*\"wan_na\" + 0.007*\"back\" + 0.006*\"ai_n\\'t\" + 0.006*\"girl\" + 0.006*\"right\" + 0.006*\"\\'re\" + 0.006*\"night\" + 0.006*\"say\"')\n",
      "(2, '0.023*\"yeah\" + 0.021*\"get\" + 0.019*\"\\'s\" + 0.019*\"go\" + 0.017*\"oh\" + 0.017*\"baby\" + 0.014*\"know\" + 0.011*\"say\" + 0.010*\"girl\" + 0.009*\"\\'ll\" + 0.009*\"\\'m\" + 0.009*\"like\" + 0.009*\"come\" + 0.008*\"n\\'t\" + 0.008*\"’\" + 0.007*\"well\" + 0.007*\"take\" + 0.006*\"tell\" + 0.006*\"one\" + 0.006*\"let\"')\n",
      "(3, '0.040*\"love\" + 0.029*\"\\'s\" + 0.023*\"n\\'t\" + 0.019*\"know\" + 0.018*\"baby\" + 0.017*\"\\'m\" + 0.015*\"\\'re\" + 0.014*\"\\'ll\" + 0.013*\"go\" + 0.013*\"oh\" + 0.012*\"make\" + 0.011*\"get\" + 0.011*\"want\" + 0.010*\"time\" + 0.009*\"like\" + 0.009*\"say\" + 0.009*\"feel\" + 0.009*\"take\" + 0.009*\"come\" + 0.008*\"ca_n\\'t\"')\n",
      "(4, '0.063*\"oh\" + 0.044*\"get\" + 0.016*\"\\'re\" + 0.014*\"girl\" + 0.014*\"\\'ll\" + 0.013*\"night\" + 0.012*\"gon_na\" + 0.011*\"boy\" + 0.011*\"never\" + 0.010*\"shake\" + 0.009*\"shake_shake\" + 0.009*\"\\'s\" + 0.008*\"like\" + 0.007*\"keep\" + 0.006*\"la_la\" + 0.006*\"away\" + 0.006*\"little\" + 0.006*\"knock\" + 0.005*\"doo_doo\" + 0.005*\"ai_n\\'t\"')\n"
     ]
    }
   ],
   "source": [
    "# Fit optimal LDA Model based on bag of words counts for each token and return weights:\n",
    "#ldamodel = models.ldamulticore.LdaMulticore(bow_corpus, num_topics=5, id2word=dictionary, workers=8, passes=20, iterations=400)\n",
    "# For single-core processing:\n",
    "#ldamodel = models.ldamodel.LdaModel(bow_corpus, num_topics = 5, id2word=dictionary, passes=20, iterations=400)\n",
    "\n",
    "#ldamodel.save('lda5p20_i400.model')\n",
    "ldamodel = models.ldamodel.LdaModel.load('lda5p20_i400.model')\n",
    "topics = ldamodel.print_topics(num_words=20)\n",
    "\n",
    "for topic in topics:\n",
    "    print(topic)"
   ]
  },
  {
   "cell_type": "code",
   "execution_count": 23,
   "metadata": {
    "scrolled": true
   },
   "outputs": [
    {
     "name": "stderr",
     "output_type": "stream",
     "text": [
      "Traceback (most recent call last):\n",
      "  File \"<string>\", line 1, in <module>\n",
      "  File \"/Users/jiayan/opt/anaconda3/envs/macs40400/lib/python3.9/multiprocessing/spawn.py\", line 116, in spawn_main\n",
      "    exitcode = _main(fd, parent_sentinel)\n",
      "  File \"/Users/jiayan/opt/anaconda3/envs/macs40400/lib/python3.9/multiprocessing/spawn.py\", line 126, in _main\n",
      "    self = reduction.pickle.load(from_parent)\n",
      "_pickle.UnpicklingError: pickle data was truncated\n"
     ]
    },
    {
     "name": "stdout",
     "output_type": "stream",
     "text": [
      "Topic 0\n",
      "                          title  year           artist\n",
      "3203                  Rich Girl  2005     Gwen Stefani\n",
      "1540                 Centerfold  1982    J. Geils Band\n",
      "2895                   Survivor  2001  Destiny's Child\n",
      "3652                        S&M  2011          Rihanna\n",
      "2087                 On Our Own  1989      Bobby Brown\n",
      "2513  Here Comes The Hotstepper  1995       Ini Kamoze\n",
      "2487  Here Comes The Hotstepper  1994       Ini Kamoze\n",
      "3589                Ridin' Solo  2010     Jason Derulo\n",
      "3137                 Sorry 2004  2004   Ruben Studdard\n",
      "2399                   Bad Boys  1993     Inner Circle\n",
      "*******************************\n",
      "Topic 1\n",
      "                    title  year                artist\n",
      "2553     1st Of Tha Month  1995  Bone Thugs-N-Harmony\n",
      "2847  The Real Slim Shady  2000                Eminem\n",
      "2806        Ghetto Cowboy  1999       Mo Thugs Family\n",
      "2726              Victory  1998            Puff Daddy\n",
      "3260               Ridin'  2006        Chamillionaire\n",
      "3991                 Only  2015           Nicki Minaj\n",
      "3404             Lollipop  2008             Lil Wayne\n",
      "3060       Excuse Me Miss  2003                 Jay-Z\n",
      "2862     Forget About Dre  2000               Dr. Dre\n",
      "3852              Berzerk  2013                Eminem\n",
      "*******************************\n",
      "Topic 2\n",
      "                            title  year             artist\n",
      "1664  Wanna Be Startin' Somethin'  1983    Michael Jackson\n",
      "854                  American Pie  1972         Don McLean\n",
      "3306                        Rompe  2006       Daddy Yankee\n",
      "2992              Gimme the Light  2002          Sean Paul\n",
      "3261                     Sexyback  2006  Justin Timberlake\n",
      "3372                     Sexyback  2007  Justin Timberlake\n",
      "3255                  Temperature  2006          Sean Paul\n",
      "3251               U Already Know  2005                112\n",
      "1684             Pass The Dutchie  1983      Musical Youth\n",
      "3905                     Bailando  2014   Enrique Iglesias\n",
      "*******************************\n",
      "Topic 3\n",
      "                              title  year             artist\n",
      "3344  What Goes Around Comes Around  2007  Justin Timberlake\n",
      "3912                Not A Bad Thing  2014  Justin Timberlake\n",
      "2026                   Red Red Wine  1988               UB40\n",
      "2713                     Never Ever  1998         All Saints\n",
      "2282                End Of The Road  1992        Boyz II Men\n",
      "2024       The Way You Make Me Feel  1988    Michael Jackson\n",
      "2436       You Mean The World To Me  1994       Toni Braxton\n",
      "2546          Every Day Of The Week  1995               Jade\n",
      "2986                     Rainy Dayz  2002      Mary J. Blige\n",
      "1126             Love Rollercoaster  1976       Ohio Players\n",
      "*******************************\n",
      "Topic 4\n",
      "                      title  year             artist\n",
      "2671            Tubthumping  1997        Chumbawamba\n",
      "2710            Tubthumping  1998        Chumbawamba\n",
      "3821               Diamonds  2013            Rihanna\n",
      "3792               Diamonds  2012            Rihanna\n",
      "1713         99 Luftballons  1984               Nena\n",
      "986           Jungle Boogie  1974  Kool and The Gang\n",
      "426   The Girl From Ipanema  1964          Stan Getz\n",
      "154                Lollipop  1958         Chordettes\n",
      "150              Tom Dooley  1958      Kingston Trio\n",
      "1318           Ring My Bell  1979         Anita Ward\n",
      "*******************************\n"
     ]
    }
   ],
   "source": [
    "top_songs_by_topic = music.top_songs_by_topic(music_df, ldamodel, bow_corpus, ntop=10)"
   ]
  },
  {
   "cell_type": "markdown",
   "metadata": {},
   "source": [
    "From the information above, Topic 3 can presumably be summarised as missing lovers. To have a better grasp of it, we could take a look at the lyrics of the top songs in Topic 3."
   ]
  },
  {
   "cell_type": "code",
   "execution_count": 14,
   "metadata": {},
   "outputs": [
    {
     "data": {
      "text/plain": [
       "[3344, 3912, 2026, 2713, 2282, 2024, 2436, 2546, 2986, 1126]"
      ]
     },
     "execution_count": 14,
     "metadata": {},
     "output_type": "execute_result"
    }
   ],
   "source": [
    "# list of indices of songs in Topic 3\n",
    "top_songs_by_topic[3]"
   ]
  },
  {
   "cell_type": "code",
   "execution_count": 20,
   "metadata": {},
   "outputs": [
    {
     "data": {
      "text/html": [
       "<div>\n",
       "<style scoped>\n",
       "    .dataframe tbody tr th:only-of-type {\n",
       "        vertical-align: middle;\n",
       "    }\n",
       "\n",
       "    .dataframe tbody tr th {\n",
       "        vertical-align: top;\n",
       "    }\n",
       "\n",
       "    .dataframe thead th {\n",
       "        text-align: right;\n",
       "    }\n",
       "</style>\n",
       "<table border=\"1\" class=\"dataframe\">\n",
       "  <thead>\n",
       "    <tr style=\"text-align: right;\">\n",
       "      <th></th>\n",
       "      <th>title</th>\n",
       "      <th>lyrics</th>\n",
       "    </tr>\n",
       "  </thead>\n",
       "  <tbody>\n",
       "    <tr>\n",
       "      <th>0</th>\n",
       "      <td>What Goes Around Comes Around</td>\n",
       "      <td>Hey girl\\nIs he everything you wanted in a man?\\nYou know I gave you the world\\nYou had me in the palm of your hand\\n\\nSo why your love went away\\nI just can't seem to understand\\nThought it was me and you, baby\\nMe and you until the end\\nBut I guess I was wrong\\n\\nDon't want to think about it\\n...</td>\n",
       "    </tr>\n",
       "    <tr>\n",
       "      <th>1</th>\n",
       "      <td>Not A Bad Thing</td>\n",
       "      <td>Said all I want from you is to see you tomorrow\\nAnd every tomorrow, maybe you’ll let me borrow your heart\\nAnd is it too much to ask for every Sunday\\nIf I were radical and every other day to start\\n\\nI know people make promises all the time\\nThen they turn right around and break them\\nWhen som...</td>\n",
       "    </tr>\n",
       "    <tr>\n",
       "      <th>2</th>\n",
       "      <td>Red Red Wine</td>\n",
       "      <td>Red, red wine\\nGoes to my head\\nMakes me forget that I\\nStill need her so\\n\\nRed, red wine\\nIt's up to you\\nAll I can do I've done\\nMemories won't go\\nMemories won't go\\n\\nI'd have sworn that with time\\nThoughts of you would leave my head\\nI was wrong, now I find\\nJust one thing makes me forget\\...</td>\n",
       "    </tr>\n",
       "    <tr>\n",
       "      <th>3</th>\n",
       "      <td>Never Ever</td>\n",
       "      <td>Nicole:\\nA few questions that I need to know\\nHow you could ever hurt me so\\nI need to know what I've done wrong\\nAnd how long it's been going on\\nWas it that I never paid enough attention?\\nOr did I not give enough affection?\\nNot only will your answers keep me sane\\nBut I'll know never to make...</td>\n",
       "    </tr>\n",
       "    <tr>\n",
       "      <th>4</th>\n",
       "      <td>End Of The Road</td>\n",
       "      <td>Spoken:\\nGirl you know we belong together.\\nI don't have no time for you to be playing with my heart like this.\\nYou'll be mine forever baby, you just see.\\n\\nWe belong together and you know that I'm right\\nWhy do you play with my heart, why do you play with my mind\\nSaid we'd be forever, said i...</td>\n",
       "    </tr>\n",
       "    <tr>\n",
       "      <th>5</th>\n",
       "      <td>The Way You Make Me Feel</td>\n",
       "      <td>(Hee! - hee!)\\n(Ooh!)\\n(Go on girl!)\\n(Aaow!)\\n\\nHey pretty baby with the high heels on\\nYou give me fever\\nLike I've never, forever known\\nYou're just a product of loveliness\\nI like the groove of your walk\\nYour talk, your dress\\nI feel your fever\\nFrom miles around\\nI'll pick you up in my car...</td>\n",
       "    </tr>\n",
       "    <tr>\n",
       "      <th>6</th>\n",
       "      <td>You Mean The World To Me</td>\n",
       "      <td>If you could give me one good reason why I should believe you,\\nBelieve in all the things that you tell...\\nI would sure like to believe you, my heart wants to receive you;\\nJust make me know that you are sincere...\\n\\nYou know I'd love for you to lead me, and follow through completely,\\nSo won'...</td>\n",
       "    </tr>\n",
       "    <tr>\n",
       "      <th>7</th>\n",
       "      <td>Every Day Of The Week</td>\n",
       "      <td>Mmm, mmm, mmm\\nOoh...whoa...oh...oh...oh...\\nOh, yeah\\n\\nYou were lookin' so good to me\\nThe night we met, I could not see\\nHow deep you were to penetrate my heart, mmm\\nNow that some time has passed\\nIt made me think this was meant to last\\nI never wanna be apart, oh, no, no\\n\\nDon't let me foo...</td>\n",
       "    </tr>\n",
       "    <tr>\n",
       "      <th>8</th>\n",
       "      <td>Rainy Dayz</td>\n",
       "      <td>Hey, yeah\\nRule baby, yeah\\nMary J. Blige\\nMurder Inc.\\nSmile\\n\\nIt's just those rainy days\\nSpend a lifetime, tryin' to wash away\\nUntil the sun comes out and shines again\\nSmile for me, smile for me\\n\\nAll of those rainy days\\nSpend your lifetime, tryin' to wash away\\nUntil the sun shines and ...</td>\n",
       "    </tr>\n",
       "    <tr>\n",
       "      <th>9</th>\n",
       "      <td>Love Rollercoaster</td>\n",
       "      <td>Rollercoaster, of love (Say what?)\\nRollercoaster, (huh huh)\\nOoh, ooh, ooh, ooh\\nRollercoaster (ride), of love\\nRollercoaster (heh, heh, heh, heh)\\nOoh, ooh, ooh, ooh\\n\\nRollercoaster (love rollercoaster) of love\\n(Yeah) Rollercoaster (wow, wow, wow, high)\\nOoh, ooh, ooh, ooh\\nRollercoaster of ...</td>\n",
       "    </tr>\n",
       "  </tbody>\n",
       "</table>\n",
       "</div>"
      ],
      "text/plain": [
       "                           title  \\\n",
       "0  What Goes Around Comes Around   \n",
       "1                Not A Bad Thing   \n",
       "2                   Red Red Wine   \n",
       "3                     Never Ever   \n",
       "4                End Of The Road   \n",
       "5       The Way You Make Me Feel   \n",
       "6       You Mean The World To Me   \n",
       "7          Every Day Of The Week   \n",
       "8                     Rainy Dayz   \n",
       "9             Love Rollercoaster   \n",
       "\n",
       "                                                                                                                                                                                                                                                                                                        lyrics  \n",
       "0  Hey girl\\nIs he everything you wanted in a man?\\nYou know I gave you the world\\nYou had me in the palm of your hand\\n\\nSo why your love went away\\nI just can't seem to understand\\nThought it was me and you, baby\\nMe and you until the end\\nBut I guess I was wrong\\n\\nDon't want to think about it\\n...  \n",
       "1  Said all I want from you is to see you tomorrow\\nAnd every tomorrow, maybe you’ll let me borrow your heart\\nAnd is it too much to ask for every Sunday\\nIf I were radical and every other day to start\\n\\nI know people make promises all the time\\nThen they turn right around and break them\\nWhen som...  \n",
       "2  Red, red wine\\nGoes to my head\\nMakes me forget that I\\nStill need her so\\n\\nRed, red wine\\nIt's up to you\\nAll I can do I've done\\nMemories won't go\\nMemories won't go\\n\\nI'd have sworn that with time\\nThoughts of you would leave my head\\nI was wrong, now I find\\nJust one thing makes me forget\\...  \n",
       "3  Nicole:\\nA few questions that I need to know\\nHow you could ever hurt me so\\nI need to know what I've done wrong\\nAnd how long it's been going on\\nWas it that I never paid enough attention?\\nOr did I not give enough affection?\\nNot only will your answers keep me sane\\nBut I'll know never to make...  \n",
       "4  Spoken:\\nGirl you know we belong together.\\nI don't have no time for you to be playing with my heart like this.\\nYou'll be mine forever baby, you just see.\\n\\nWe belong together and you know that I'm right\\nWhy do you play with my heart, why do you play with my mind\\nSaid we'd be forever, said i...  \n",
       "5  (Hee! - hee!)\\n(Ooh!)\\n(Go on girl!)\\n(Aaow!)\\n\\nHey pretty baby with the high heels on\\nYou give me fever\\nLike I've never, forever known\\nYou're just a product of loveliness\\nI like the groove of your walk\\nYour talk, your dress\\nI feel your fever\\nFrom miles around\\nI'll pick you up in my car...  \n",
       "6  If you could give me one good reason why I should believe you,\\nBelieve in all the things that you tell...\\nI would sure like to believe you, my heart wants to receive you;\\nJust make me know that you are sincere...\\n\\nYou know I'd love for you to lead me, and follow through completely,\\nSo won'...  \n",
       "7  Mmm, mmm, mmm\\nOoh...whoa...oh...oh...oh...\\nOh, yeah\\n\\nYou were lookin' so good to me\\nThe night we met, I could not see\\nHow deep you were to penetrate my heart, mmm\\nNow that some time has passed\\nIt made me think this was meant to last\\nI never wanna be apart, oh, no, no\\n\\nDon't let me foo...  \n",
       "8  Hey, yeah\\nRule baby, yeah\\nMary J. Blige\\nMurder Inc.\\nSmile\\n\\nIt's just those rainy days\\nSpend a lifetime, tryin' to wash away\\nUntil the sun comes out and shines again\\nSmile for me, smile for me\\n\\nAll of those rainy days\\nSpend your lifetime, tryin' to wash away\\nUntil the sun shines and ...  \n",
       "9  Rollercoaster, of love (Say what?)\\nRollercoaster, (huh huh)\\nOoh, ooh, ooh, ooh\\nRollercoaster (ride), of love\\nRollercoaster (heh, heh, heh, heh)\\nOoh, ooh, ooh, ooh\\n\\nRollercoaster (love rollercoaster) of love\\n(Yeah) Rollercoaster (wow, wow, wow, high)\\nOoh, ooh, ooh, ooh\\nRollercoaster of ...  "
      ]
     },
     "execution_count": 20,
     "metadata": {},
     "output_type": "execute_result"
    }
   ],
   "source": [
    "topic3_exp = pd.DataFrame(columns=[\"title\", \"lyrics\"])\n",
    "\n",
    "for i in top_songs_by_topic[3]:\n",
    "    topic3_exp.loc[len(topic3_exp)] = [music_df.loc[i][\"title\"], music_df.loc[i][\"lyrics\"]]\n",
    "\n",
    "# browse the top songs of Topic 3 and summarise the theme\n",
    "pd.options.display.max_colwidth = 300\n",
    "topic3_exp.head(10)"
   ]
  },
  {
   "cell_type": "markdown",
   "metadata": {},
   "source": [
    "From the lyrics presented above, we could tell that Topic 3 relates closedly to heartbreaks/longing for someone's love, or as described by Prof. Clindaniel, \"pleading or begging partner to take you back, forgive you, etc.\""
   ]
  },
  {
   "cell_type": "code",
   "execution_count": 37,
   "metadata": {},
   "outputs": [
    {
     "data": {
      "text/html": [
       "<div>\n",
       "<style scoped>\n",
       "    .dataframe tbody tr th:only-of-type {\n",
       "        vertical-align: middle;\n",
       "    }\n",
       "\n",
       "    .dataframe tbody tr th {\n",
       "        vertical-align: top;\n",
       "    }\n",
       "\n",
       "    .dataframe thead th {\n",
       "        text-align: right;\n",
       "    }\n",
       "</style>\n",
       "<table border=\"1\" class=\"dataframe\">\n",
       "  <thead>\n",
       "    <tr style=\"text-align: right;\">\n",
       "      <th></th>\n",
       "      <th>0</th>\n",
       "      <th>1</th>\n",
       "      <th>2</th>\n",
       "      <th>3</th>\n",
       "      <th>4</th>\n",
       "      <th>Gender</th>\n",
       "      <th>acousticness</th>\n",
       "      <th>analysis_url</th>\n",
       "      <th>artist</th>\n",
       "      <th>artist_with_features</th>\n",
       "      <th>...</th>\n",
       "      <th>num_words</th>\n",
       "      <th>pos</th>\n",
       "      <th>speechiness</th>\n",
       "      <th>tempo</th>\n",
       "      <th>time_signature</th>\n",
       "      <th>title</th>\n",
       "      <th>uri</th>\n",
       "      <th>valence</th>\n",
       "      <th>year</th>\n",
       "      <th>year_bin</th>\n",
       "    </tr>\n",
       "  </thead>\n",
       "  <tbody>\n",
       "    <tr>\n",
       "      <th>0</th>\n",
       "      <td>0.000000</td>\n",
       "      <td>0.336013</td>\n",
       "      <td>0.000000</td>\n",
       "      <td>0.653405</td>\n",
       "      <td>0.000000</td>\n",
       "      <td>male</td>\n",
       "      <td>0.903</td>\n",
       "      <td>https://api.spotify.com/v1/audio-analysis/3k5y...</td>\n",
       "      <td>Nat King Cole</td>\n",
       "      <td>0</td>\n",
       "      <td>...</td>\n",
       "      <td>145</td>\n",
       "      <td>0.199</td>\n",
       "      <td>0.0325</td>\n",
       "      <td>86.198</td>\n",
       "      <td>3</td>\n",
       "      <td>Mona Lisa</td>\n",
       "      <td>spotify:track:3k5ycyXX5qsCjLd7R2vphp</td>\n",
       "      <td>0.339</td>\n",
       "      <td>1950</td>\n",
       "      <td>1950s</td>\n",
       "    </tr>\n",
       "    <tr>\n",
       "      <th>1</th>\n",
       "      <td>0.000000</td>\n",
       "      <td>0.411736</td>\n",
       "      <td>0.000000</td>\n",
       "      <td>0.582746</td>\n",
       "      <td>0.000000</td>\n",
       "      <td>Group</td>\n",
       "      <td>0.939</td>\n",
       "      <td>https://api.spotify.com/v1/audio-analysis/4UY8...</td>\n",
       "      <td>Andrews Sisters</td>\n",
       "      <td>Gordon Jenkins</td>\n",
       "      <td>...</td>\n",
       "      <td>189</td>\n",
       "      <td>0.224</td>\n",
       "      <td>0.0389</td>\n",
       "      <td>170.869</td>\n",
       "      <td>5</td>\n",
       "      <td>I Wanna Be Loved</td>\n",
       "      <td>spotify:track:4UY81WrDU3jTROGaKuz4uZ</td>\n",
       "      <td>0.181</td>\n",
       "      <td>1950</td>\n",
       "      <td>1950s</td>\n",
       "    </tr>\n",
       "    <tr>\n",
       "      <th>2</th>\n",
       "      <td>0.000000</td>\n",
       "      <td>0.398283</td>\n",
       "      <td>0.000000</td>\n",
       "      <td>0.590973</td>\n",
       "      <td>0.000000</td>\n",
       "      <td>female</td>\n",
       "      <td>0.784</td>\n",
       "      <td>https://api.spotify.com/v1/audio-analysis/6DKt...</td>\n",
       "      <td>Patti Page</td>\n",
       "      <td>0</td>\n",
       "      <td>...</td>\n",
       "      <td>138</td>\n",
       "      <td>0.351</td>\n",
       "      <td>0.0276</td>\n",
       "      <td>86.335</td>\n",
       "      <td>3</td>\n",
       "      <td>Tennessee Waltz</td>\n",
       "      <td>spotify:track:6DKt9vMnMN0HmlnK3EAHRQ</td>\n",
       "      <td>0.294</td>\n",
       "      <td>1950</td>\n",
       "      <td>1950s</td>\n",
       "    </tr>\n",
       "    <tr>\n",
       "      <th>3</th>\n",
       "      <td>0.000000</td>\n",
       "      <td>0.000000</td>\n",
       "      <td>0.000000</td>\n",
       "      <td>0.986213</td>\n",
       "      <td>0.000000</td>\n",
       "      <td>male</td>\n",
       "      <td>0.780</td>\n",
       "      <td>https://api.spotify.com/v1/audio-analysis/0KnD...</td>\n",
       "      <td>Tennessee Ernie Ford</td>\n",
       "      <td>Kay Starr</td>\n",
       "      <td>...</td>\n",
       "      <td>117</td>\n",
       "      <td>0.231</td>\n",
       "      <td>0.0357</td>\n",
       "      <td>82.184</td>\n",
       "      <td>3</td>\n",
       "      <td>I'll Never Be Free</td>\n",
       "      <td>spotify:track:0KnD456yC5JuweN932Ems3</td>\n",
       "      <td>0.474</td>\n",
       "      <td>1950</td>\n",
       "      <td>1950s</td>\n",
       "    </tr>\n",
       "    <tr>\n",
       "      <th>4</th>\n",
       "      <td>0.014488</td>\n",
       "      <td>0.014483</td>\n",
       "      <td>0.014453</td>\n",
       "      <td>0.014483</td>\n",
       "      <td>0.942093</td>\n",
       "      <td>female</td>\n",
       "      <td>0.801</td>\n",
       "      <td>https://api.spotify.com/v1/audio-analysis/05sX...</td>\n",
       "      <td>Patti Page</td>\n",
       "      <td>0</td>\n",
       "      <td>...</td>\n",
       "      <td>32</td>\n",
       "      <td>0.079</td>\n",
       "      <td>0.0408</td>\n",
       "      <td>123.314</td>\n",
       "      <td>4</td>\n",
       "      <td>All My Love</td>\n",
       "      <td>spotify:track:05sXHTLqIpwywbpui1JT4o</td>\n",
       "      <td>0.633</td>\n",
       "      <td>1950</td>\n",
       "      <td>1950s</td>\n",
       "    </tr>\n",
       "  </tbody>\n",
       "</table>\n",
       "<p>5 rows × 42 columns</p>\n",
       "</div>"
      ],
      "text/plain": [
       "          0         1         2         3         4  Gender  acousticness  \\\n",
       "0  0.000000  0.336013  0.000000  0.653405  0.000000    male         0.903   \n",
       "1  0.000000  0.411736  0.000000  0.582746  0.000000   Group         0.939   \n",
       "2  0.000000  0.398283  0.000000  0.590973  0.000000  female         0.784   \n",
       "3  0.000000  0.000000  0.000000  0.986213  0.000000    male         0.780   \n",
       "4  0.014488  0.014483  0.014453  0.014483  0.942093  female         0.801   \n",
       "\n",
       "                                        analysis_url                artist  \\\n",
       "0  https://api.spotify.com/v1/audio-analysis/3k5y...         Nat King Cole   \n",
       "1  https://api.spotify.com/v1/audio-analysis/4UY8...       Andrews Sisters   \n",
       "2  https://api.spotify.com/v1/audio-analysis/6DKt...            Patti Page   \n",
       "3  https://api.spotify.com/v1/audio-analysis/0KnD...  Tennessee Ernie Ford   \n",
       "4  https://api.spotify.com/v1/audio-analysis/05sX...            Patti Page   \n",
       "\n",
       "  artist_with_features  ... num_words    pos  speechiness    tempo  \\\n",
       "0                    0  ...       145  0.199       0.0325   86.198   \n",
       "1       Gordon Jenkins  ...       189  0.224       0.0389  170.869   \n",
       "2                    0  ...       138  0.351       0.0276   86.335   \n",
       "3            Kay Starr  ...       117  0.231       0.0357   82.184   \n",
       "4                    0  ...        32  0.079       0.0408  123.314   \n",
       "\n",
       "   time_signature               title                                   uri  \\\n",
       "0               3           Mona Lisa  spotify:track:3k5ycyXX5qsCjLd7R2vphp   \n",
       "1               5    I Wanna Be Loved  spotify:track:4UY81WrDU3jTROGaKuz4uZ   \n",
       "2               3     Tennessee Waltz  spotify:track:6DKt9vMnMN0HmlnK3EAHRQ   \n",
       "3               3  I'll Never Be Free  spotify:track:0KnD456yC5JuweN932Ems3   \n",
       "4               4         All My Love  spotify:track:05sXHTLqIpwywbpui1JT4o   \n",
       "\n",
       "   valence  year year_bin  \n",
       "0    0.339  1950    1950s  \n",
       "1    0.181  1950    1950s  \n",
       "2    0.294  1950    1950s  \n",
       "3    0.474  1950    1950s  \n",
       "4    0.633  1950    1950s  \n",
       "\n",
       "[5 rows x 42 columns]"
      ]
     },
     "execution_count": 37,
     "metadata": {},
     "output_type": "execute_result"
    }
   ],
   "source": [
    "# apply to each row: axis=1, args=[bow_corpus] (see function above)\n",
    "music_df = music_df.apply(music.fill_topic_weights,\n",
    "                          axis=1, args=[bow_corpus, ldamodel]).fillna(0)\n",
    "music_df.head()"
   ]
  },
  {
   "cell_type": "code",
   "execution_count": 38,
   "metadata": {},
   "outputs": [
    {
     "data": {
      "image/png": "[encoded data removed]",
      "text/plain": [
       "<Figure size 640x480 with 1 Axes>"
      ]
     },
     "metadata": {},
     "output_type": "display_data"
    }
   ],
   "source": [
    "# clean up the `year_bin` category as I did in Part I\n",
    "music_df['year_bin'] = music_df['year_bin'].apply(lambda x: '20'+x if (x == '10s') or (x == '00s') else '19'+x)\n",
    "\n",
    "# look at the general tendency of topics over the years\n",
    "music_df[['0','1','2','3','4','year_bin']].groupby('year_bin').mean().plot();"
   ]
  },
  {
   "cell_type": "code",
   "execution_count": 68,
   "metadata": {},
   "outputs": [
    {
     "data": {
      "text/html": [
       "<div>\n",
       "<style scoped>\n",
       "    .dataframe tbody tr th:only-of-type {\n",
       "        vertical-align: middle;\n",
       "    }\n",
       "\n",
       "    .dataframe tbody tr th {\n",
       "        vertical-align: top;\n",
       "    }\n",
       "\n",
       "    .dataframe thead th {\n",
       "        text-align: right;\n",
       "    }\n",
       "</style>\n",
       "<table border=\"1\" class=\"dataframe\">\n",
       "  <thead>\n",
       "    <tr style=\"text-align: right;\">\n",
       "      <th></th>\n",
       "      <th>year</th>\n",
       "      <th>heartbreak_theme</th>\n",
       "    </tr>\n",
       "  </thead>\n",
       "  <tbody>\n",
       "    <tr>\n",
       "      <th>0</th>\n",
       "      <td>1950</td>\n",
       "      <td>0.568010</td>\n",
       "    </tr>\n",
       "    <tr>\n",
       "      <th>1</th>\n",
       "      <td>1951</td>\n",
       "      <td>0.577869</td>\n",
       "    </tr>\n",
       "    <tr>\n",
       "      <th>2</th>\n",
       "      <td>1952</td>\n",
       "      <td>0.484377</td>\n",
       "    </tr>\n",
       "    <tr>\n",
       "      <th>3</th>\n",
       "      <td>1953</td>\n",
       "      <td>0.639786</td>\n",
       "    </tr>\n",
       "    <tr>\n",
       "      <th>4</th>\n",
       "      <td>1954</td>\n",
       "      <td>0.570879</td>\n",
       "    </tr>\n",
       "  </tbody>\n",
       "</table>\n",
       "</div>"
      ],
      "text/plain": [
       "   year  heartbreak_theme\n",
       "0  1950          0.568010\n",
       "1  1951          0.577869\n",
       "2  1952          0.484377\n",
       "3  1953          0.639786\n",
       "4  1954          0.570879"
      ]
     },
     "execution_count": 68,
     "metadata": {},
     "output_type": "execute_result"
    }
   ],
   "source": [
    "topic3_df = music_df[['3','year']].groupby('year', as_index=False).mean()\n",
    "\n",
    "# Topic 3 contains the weight of heartbreaks/pleading for love\n",
    "topic3_df.columns = ['year', 'heartbreak_theme']      \n",
    "topic3_df.head()"
   ]
  },
  {
   "cell_type": "code",
   "execution_count": 45,
   "metadata": {},
   "outputs": [
    {
     "data": {
      "text/html": [
       "<div>\n",
       "<style scoped>\n",
       "    .dataframe tbody tr th:only-of-type {\n",
       "        vertical-align: middle;\n",
       "    }\n",
       "\n",
       "    .dataframe tbody tr th {\n",
       "        vertical-align: top;\n",
       "    }\n",
       "\n",
       "    .dataframe thead th {\n",
       "        text-align: right;\n",
       "    }\n",
       "</style>\n",
       "<table border=\"1\" class=\"dataframe\">\n",
       "  <thead>\n",
       "    <tr style=\"text-align: right;\">\n",
       "      <th></th>\n",
       "      <th>year</th>\n",
       "      <th>marriage_rate</th>\n",
       "    </tr>\n",
       "  </thead>\n",
       "  <tbody>\n",
       "    <tr>\n",
       "      <th>0</th>\n",
       "      <td>'90</td>\n",
       "      <td>9.8</td>\n",
       "    </tr>\n",
       "    <tr>\n",
       "      <th>1</th>\n",
       "      <td>'91</td>\n",
       "      <td>9.4</td>\n",
       "    </tr>\n",
       "    <tr>\n",
       "      <th>2</th>\n",
       "      <td>'92</td>\n",
       "      <td>9.3</td>\n",
       "    </tr>\n",
       "    <tr>\n",
       "      <th>3</th>\n",
       "      <td>'93</td>\n",
       "      <td>9.0</td>\n",
       "    </tr>\n",
       "    <tr>\n",
       "      <th>4</th>\n",
       "      <td>'94</td>\n",
       "      <td>9.1</td>\n",
       "    </tr>\n",
       "  </tbody>\n",
       "</table>\n",
       "</div>"
      ],
      "text/plain": [
       "  year  marriage_rate\n",
       "0  '90            9.8\n",
       "1  '91            9.4\n",
       "2  '92            9.3\n",
       "3  '93            9.0\n",
       "4  '94            9.1"
      ]
     },
     "execution_count": 45,
     "metadata": {},
     "output_type": "execute_result"
    }
   ],
   "source": [
    "# read the dataset containing marriage rates\n",
    "df_marriage = pd.read_csv(\"data/marriage rate.csv\", header=None)\n",
    "df_marriage.columns = [\"year\", \"marriage_rate\"]\n",
    "df_marriage.head()"
   ]
  },
  {
   "cell_type": "code",
   "execution_count": 46,
   "metadata": {},
   "outputs": [
    {
     "data": {
      "text/html": [
       "<div>\n",
       "<style scoped>\n",
       "    .dataframe tbody tr th:only-of-type {\n",
       "        vertical-align: middle;\n",
       "    }\n",
       "\n",
       "    .dataframe tbody tr th {\n",
       "        vertical-align: top;\n",
       "    }\n",
       "\n",
       "    .dataframe thead th {\n",
       "        text-align: right;\n",
       "    }\n",
       "</style>\n",
       "<table border=\"1\" class=\"dataframe\">\n",
       "  <thead>\n",
       "    <tr style=\"text-align: right;\">\n",
       "      <th></th>\n",
       "      <th>year</th>\n",
       "      <th>marriage_rate</th>\n",
       "    </tr>\n",
       "  </thead>\n",
       "  <tbody>\n",
       "    <tr>\n",
       "      <th>0</th>\n",
       "      <td>1990</td>\n",
       "      <td>9.8</td>\n",
       "    </tr>\n",
       "    <tr>\n",
       "      <th>1</th>\n",
       "      <td>1991</td>\n",
       "      <td>9.4</td>\n",
       "    </tr>\n",
       "    <tr>\n",
       "      <th>2</th>\n",
       "      <td>1992</td>\n",
       "      <td>9.3</td>\n",
       "    </tr>\n",
       "    <tr>\n",
       "      <th>3</th>\n",
       "      <td>1993</td>\n",
       "      <td>9.0</td>\n",
       "    </tr>\n",
       "    <tr>\n",
       "      <th>4</th>\n",
       "      <td>1994</td>\n",
       "      <td>9.1</td>\n",
       "    </tr>\n",
       "  </tbody>\n",
       "</table>\n",
       "</div>"
      ],
      "text/plain": [
       "   year  marriage_rate\n",
       "0  1990            9.8\n",
       "1  1991            9.4\n",
       "2  1992            9.3\n",
       "3  1993            9.0\n",
       "4  1994            9.1"
      ]
     },
     "execution_count": 46,
     "metadata": {},
     "output_type": "execute_result"
    }
   ],
   "source": [
    "# clean up the year column\n",
    "df_marriage['year'] = df_marriage['year'].apply(lambda x: str(x)[1:3])\\\n",
    "    .apply(lambda x: '20'+x \n",
    "           if (x.startswith('2') or x.startswith('1') or x.startswith('0')) \n",
    "           else '19'+x)\\\n",
    "    .apply(lambda x: int(x))\n",
    "df_marriage.head()"
   ]
  },
  {
   "cell_type": "code",
   "execution_count": 69,
   "metadata": {},
   "outputs": [
    {
     "data": {
      "text/html": [
       "<div>\n",
       "<style scoped>\n",
       "    .dataframe tbody tr th:only-of-type {\n",
       "        vertical-align: middle;\n",
       "    }\n",
       "\n",
       "    .dataframe tbody tr th {\n",
       "        vertical-align: top;\n",
       "    }\n",
       "\n",
       "    .dataframe thead th {\n",
       "        text-align: right;\n",
       "    }\n",
       "</style>\n",
       "<table border=\"1\" class=\"dataframe\">\n",
       "  <thead>\n",
       "    <tr style=\"text-align: right;\">\n",
       "      <th></th>\n",
       "      <th>year</th>\n",
       "      <th>heartbreak_theme</th>\n",
       "      <th>marriage_rate</th>\n",
       "    </tr>\n",
       "  </thead>\n",
       "  <tbody>\n",
       "    <tr>\n",
       "      <th>0</th>\n",
       "      <td>1990</td>\n",
       "      <td>0.656008</td>\n",
       "      <td>9.8</td>\n",
       "    </tr>\n",
       "    <tr>\n",
       "      <th>1</th>\n",
       "      <td>1991</td>\n",
       "      <td>0.709713</td>\n",
       "      <td>9.4</td>\n",
       "    </tr>\n",
       "    <tr>\n",
       "      <th>2</th>\n",
       "      <td>1992</td>\n",
       "      <td>0.645286</td>\n",
       "      <td>9.3</td>\n",
       "    </tr>\n",
       "    <tr>\n",
       "      <th>3</th>\n",
       "      <td>1993</td>\n",
       "      <td>0.638256</td>\n",
       "      <td>9.0</td>\n",
       "    </tr>\n",
       "    <tr>\n",
       "      <th>4</th>\n",
       "      <td>1994</td>\n",
       "      <td>0.624786</td>\n",
       "      <td>9.1</td>\n",
       "    </tr>\n",
       "  </tbody>\n",
       "</table>\n",
       "</div>"
      ],
      "text/plain": [
       "   year  heartbreak_theme  marriage_rate\n",
       "0  1990          0.656008            9.8\n",
       "1  1991          0.709713            9.4\n",
       "2  1992          0.645286            9.3\n",
       "3  1993          0.638256            9.0\n",
       "4  1994          0.624786            9.1"
      ]
     },
     "execution_count": 69,
     "metadata": {},
     "output_type": "execute_result"
    }
   ],
   "source": [
    "# merge the two datasets\n",
    "df = pd.merge(left=topic3_df, right=df_marriage, on=\"year\")\n",
    "df.head()"
   ]
  },
  {
   "cell_type": "code",
   "execution_count": 70,
   "metadata": {},
   "outputs": [
    {
     "name": "stdout",
     "output_type": "stream",
     "text": [
      "                            OLS Regression Results                            \n",
      "==============================================================================\n",
      "Dep. Variable:       heartbreak_theme   R-squared:                       0.737\n",
      "Model:                            OLS   Adj. R-squared:                  0.726\n",
      "Method:                 Least Squares   F-statistic:                     67.35\n",
      "Date:                Wed, 23 Nov 2022   Prob (F-statistic):           2.00e-08\n",
      "Time:                        15:26:00   Log-Likelihood:                 41.754\n",
      "No. Observations:                  26   AIC:                            -79.51\n",
      "Df Residuals:                      24   BIC:                            -76.99\n",
      "Df Model:                           1                                         \n",
      "Covariance Type:            nonrobust                                         \n",
      "==============================================================================\n",
      "                 coef    std err          t      P>|t|      [0.025      0.975]\n",
      "------------------------------------------------------------------------------\n",
      "Intercept     22.2506      2.647      8.406      0.000      16.788      27.713\n",
      "year          -0.0108      0.001     -8.207      0.000      -0.014      -0.008\n",
      "==============================================================================\n",
      "Omnibus:                        8.469   Durbin-Watson:                   0.937\n",
      "Prob(Omnibus):                  0.014   Jarque-Bera (JB):                6.476\n",
      "Skew:                          -1.037   Prob(JB):                       0.0392\n",
      "Kurtosis:                       4.294   Cond. No.                     5.35e+05\n",
      "==============================================================================\n",
      "\n",
      "Notes:\n",
      "[1] Standard Errors assume that the covariance matrix of the errors is correctly specified.\n",
      "[2] The condition number is large, 5.35e+05. This might indicate that there are\n",
      "strong multicollinearity or other numerical problems.\n",
      "                            OLS Regression Results                            \n",
      "==============================================================================\n",
      "Dep. Variable:          marriage_rate   R-squared:                       0.961\n",
      "Model:                            OLS   Adj. R-squared:                  0.960\n",
      "Method:                 Least Squares   F-statistic:                     595.8\n",
      "Date:                Wed, 23 Nov 2022   Prob (F-statistic):           1.87e-18\n",
      "Time:                        15:26:00   Log-Likelihood:                 6.7411\n",
      "No. Observations:                  26   AIC:                            -9.482\n",
      "Df Residuals:                      24   BIC:                            -6.966\n",
      "Df Model:                           1                                         \n",
      "Covariance Type:            nonrobust                                         \n",
      "==============================================================================\n",
      "                 coef    std err          t      P>|t|      [0.025      0.975]\n",
      "------------------------------------------------------------------------------\n",
      "Intercept    256.3554     10.176     25.193      0.000     235.353     277.357\n",
      "year          -0.1240      0.005    -24.409      0.000      -0.135      -0.114\n",
      "==============================================================================\n",
      "Omnibus:                        2.661   Durbin-Watson:                   0.899\n",
      "Prob(Omnibus):                  0.264   Jarque-Bera (JB):                1.534\n",
      "Skew:                           0.580   Prob(JB):                        0.464\n",
      "Kurtosis:                       3.266   Cond. No.                     5.35e+05\n",
      "==============================================================================\n",
      "\n",
      "Notes:\n",
      "[1] Standard Errors assume that the covariance matrix of the errors is correctly specified.\n",
      "[2] The condition number is large, 5.35e+05. This might indicate that there are\n",
      "strong multicollinearity or other numerical problems.\n"
     ]
    },
    {
     "data": {
      "image/png": "[encoded data removed]",
      "text/plain": [
       "<Figure size 640x480 with 1 Axes>"
      ]
     },
     "metadata": {},
     "output_type": "display_data"
    },
    {
     "data": {
      "image/png": "[encoded data removed]",
      "text/plain": [
       "<Figure size 640x480 with 1 Axes>"
      ]
     },
     "metadata": {},
     "output_type": "display_data"
    }
   ],
   "source": [
    "utils.ols_summary_plot('heartbreak_theme', 'year', df)\n",
    "utils.ols_summary_plot('marriage_rate', 'year', df)"
   ]
  },
  {
   "cell_type": "code",
   "execution_count": 71,
   "metadata": {},
   "outputs": [
    {
     "name": "stdout",
     "output_type": "stream",
     "text": [
      "                            OLS Regression Results                            \n",
      "==============================================================================\n",
      "Dep. Variable:       heartbreak_theme   R-squared:                       0.761\n",
      "Model:                            OLS   Adj. R-squared:                  0.751\n",
      "Method:                 Least Squares   F-statistic:                     76.44\n",
      "Date:                Wed, 23 Nov 2022   Prob (F-statistic):           6.33e-09\n",
      "Time:                        15:26:12   Log-Likelihood:                 42.986\n",
      "No. Observations:                  26   AIC:                            -81.97\n",
      "Df Residuals:                      24   BIC:                            -79.46\n",
      "Df Model:                           1                                         \n",
      "Covariance Type:            nonrobust                                         \n",
      "=================================================================================\n",
      "                    coef    std err          t      P>|t|      [0.025      0.975]\n",
      "---------------------------------------------------------------------------------\n",
      "Intercept        -0.1671      0.080     -2.088      0.048      -0.332      -0.002\n",
      "marriage_rate     0.0871      0.010      8.743      0.000       0.067       0.108\n",
      "==============================================================================\n",
      "Omnibus:                        9.270   Durbin-Watson:                   1.118\n",
      "Prob(Omnibus):                  0.010   Jarque-Bera (JB):                7.359\n",
      "Skew:                          -1.176   Prob(JB):                       0.0252\n",
      "Kurtosis:                       4.124   Cond. No.                         69.1\n",
      "==============================================================================\n",
      "\n",
      "Notes:\n",
      "[1] Standard Errors assume that the covariance matrix of the errors is correctly specified.\n"
     ]
    },
    {
     "data": {
      "image/png": "[encoded data removed]",
      "text/plain": [
       "<Figure size 640x480 with 1 Axes>"
      ]
     },
     "metadata": {},
     "output_type": "display_data"
    }
   ],
   "source": [
    "utils.ols_summary_plot('heartbreak_theme', 'marriage_rate', df)"
   ]
  },
  {
   "cell_type": "markdown",
   "metadata": {},
   "source": [
    "# Task 5: explaining how the results support my theory"
   ]
  },
  {
   "cell_type": "markdown",
   "metadata": {},
   "source": [
    "Results\n",
    "Identifying the relationship between the weight of the romance/heartbreak theme and marriage rate affords insights into how the texts of lyrics carry arguments and values that directly link to the Identity part in the Circuit of Culture (Du Gay et al., 2013).\n",
    "\n",
    "Preliminarily, I tested the relations between the salience of the romance/heartbreak theme and year and marriage rate and year separately. The regression model of topic weight accounts for 73.7% of the variance of the data while the one of marriage rate accounts for 96.1%. Both results show a significant negative correlation, which means both the salience of the romance/heartbreak theme in Billboard songs and the marriage rate has seen a significant decrease from 1990 to 2015. Is the salience of the romance/heartbreak theme related to the marriage rate? I then explored the relation of the romance/heartbreak theme’s weight scores with marriage rates over 26 years. The results show a significant positive correlation between the two, which corroborates my hypothesis that less salience of the romance/heartbreak theme in Billboard Hot 100 songs is related to a lower marriage rate in the US from 1990 to 2015. \n",
    "\n",
    "Though no causal relationships can be inferred from my analysis, the results show a possible contribution of people’s commitment to love to the change in song lyrics. With people being less interested in getting married and possibly in romantic commitment in general, the songs on the Billboard Hot 100 chart also show less interest in the theme of love and heartbreaks over the years. The result is consistent with the raised theory that shifts in cultural identity played a role in the heterogenization of popular songs. Further research is needed to explore other relations within the Circuit of Culture (Du Gay et al., 2013), for example, how word-of-mouth regulates the music market now and how it has changed over the years."
   ]
  },
  {
   "cell_type": "markdown",
   "metadata": {},
   "source": [
    "*Reference*\n",
    "\n",
    "Christenson, P., Roberts, D. F., & Bjork, N. (2012). Booze, Drugs, and Pop Music: Trends in Substance Portrayals in the Billboard Top 100—1968–2008. Substance Use & Misuse, 47(2), 121–129. https://doi.org/10.3109/10826084.2012.637433\n",
    "\n",
    "Du Gay, P., Hall, S., Janes, L., Madsen, A. K., Mackay, H., & Negus, K. (2013). Doing cultural studies: The story of the Sony Walkman, 2nd edition. Sage Publications: London.\n",
    "\n",
    "Frith, S. (1996). Songs as Texts. In Performing Rites: On the Value of Popular Music. Cambridge, MA: Harvard University Press, pp. 158–182.\n",
    "\n",
    "Guilbeault, D., Becker, J., & Centola, D. (2018). Complex Contagions: A Decade in Review. In S. Lehmann & Y.-Y. Ahn (Eds.), Complex Spreading Phenomena in Social Systems (pp. 3–25). Springer International Publishing. https://doi.org/10.1007/978-3-319-77332-2_1\n",
    "\n",
    "Roessner, S. (2017, October 8). The Beat Goes Static: A Tempo Analysis of U.S. Billboard Hot 100 #1 Songs from 1955–2015. Audio Engineering Society Convention 143. https://www.aes.org/e-lib/browse.cfm?elib=19246\n",
    "\n",
    "Statista (2022). USA - Marriage rate 1990-2020 [Dataset]. https://www.statista.com/statistics/195951/marriage-rate-in-the-united-states-since-1990/\n"
   ]
  }
 ],
 "metadata": {
  "kernelspec": {
   "display_name": "Python 3.9.13 ('macs40400')",
   "language": "python",
   "name": "python3"
  },
  "language_info": {
   "codemirror_mode": {
    "name": "ipython",
    "version": 3
   },
   "file_extension": ".py",
   "mimetype": "text/x-python",
   "name": "python",
   "nbconvert_exporter": "python",
   "pygments_lexer": "ipython3",
   "version": "3.9.13"
  },
  "orig_nbformat": 4,
  "vscode": {
   "interpreter": {
    "hash": "0d73d3ee07249be4330ca3c1b935b08c5984c17f1ef0984f4999b2c4b4694fe9"
   }
  }
 },
 "nbformat": 4,
 "nbformat_minor": 2
}
